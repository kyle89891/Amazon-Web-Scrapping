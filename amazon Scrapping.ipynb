{
 "cells": [
  {
   "cell_type": "code",
   "execution_count": null,
   "metadata": {},
   "outputs": [],
   "source": [
    "from bs4 import BeautifulSoup\n",
    "import requests\n",
    "import smtplib\n",
    "import time\n",
    "import datetime"
   ]
  },
  {
   "cell_type": "code",
   "execution_count": 264,
   "metadata": {},
   "outputs": [
    {
     "data": {
      "text/plain": [
       "'\\n             Lenovo Ideapad 3 AMD Ryzen 5 5500U 15.6\" (39.62cm) FHD Thin & Light Laptop (8GB/512GB SSD/Windows 11/Office 2021/Backlit Keyboard/2Yr Warranty/Arctic Grey/1.65Kg), 82KU017KIN\\n            '"
      ]
     },
     "execution_count": 264,
     "metadata": {},
     "output_type": "execute_result"
    }
   ],
   "source": [
    "#connect to website\n",
    "URL=\"https://www.amazon.in/Lenovo-Ideapad-Keyboard-Warranty-82KU017KIN/dp/B09MM58Y7Q/ref=dp_prsubs_sccl_2/259-9538599-3553507?pd_rd_w=pSB9x&content-id=amzn1.sym.2f3ff0c8-8f5f-437e-834e-57e94146d05c&pf_rd_p=2f3ff0c8-8f5f-437e-834e-57e94146d05c&pf_rd_r=AT37BNZGGS3768TFQRR8&pd_rd_wg=9szY5&pd_rd_r=9e69292b-f40e-44ba-b3ec-bac7c12e07df&pd_rd_i=B09MM58Y7Q&psc=1\"\n",
    "headers = {\"User-Agent\": \"Mozilla/5.0 (Windows NT 10.0; Win64; x64) AppleWebKit/537.36 (KHTML, like Gecko) Chrome/116.0.0.0 Safari/537.36\", \"Accept-Encoding\":\"gzip, deflate\", \"Accept\":\"text/html,application/xhtml+xml,application/xml;q=0.9,*/*;q=0.8\", \"DNT\":\"1\",\"Connection\":\"close\", \"Upgrade-Insecure-Requests\":\"1\"}\n",
    "page=requests.get(URL, headers=headers)\n",
    "Soup1=BeautifulSoup(page.content,\"html.parser\")\n",
    "Soup2=BeautifulSoup(Soup1.prettify(),\"html.parser\")\n",
    "title=Soup2.find(id=\"productTitle\").get_text()\n",
    "title"
   ]
  },
  {
   "cell_type": "code",
   "execution_count": 265,
   "metadata": {},
   "outputs": [
    {
     "name": "stdout",
     "output_type": "stream",
     "text": [
      "2023-08-23\n"
     ]
    }
   ],
   "source": [
    "today=datetime.date.today()\n",
    "print(today)"
   ]
  },
  {
   "cell_type": "code",
   "execution_count": 266,
   "metadata": {},
   "outputs": [
    {
     "data": {
      "text/plain": [
       "'44,900'"
      ]
     },
     "execution_count": 266,
     "metadata": {},
     "output_type": "execute_result"
    }
   ],
   "source": [
    "price=Soup2.find(id=\"corePriceDisplay_desktop_feature_div\").get_text()\n",
    "price=price.strip()[35:41]\n",
    "price"
   ]
  },
  {
   "cell_type": "code",
   "execution_count": 267,
   "metadata": {},
   "outputs": [],
   "source": [
    "Processor=Soup2.find(id=\"feature-bullets\").get_text()\n",
    "Processor=Processor.strip()[45:80]\n"
   ]
  },
  {
   "cell_type": "code",
   "execution_count": 268,
   "metadata": {},
   "outputs": [],
   "source": [
    "Storage=Soup2.find(id=\"feature-bullets\").get_text()\n",
    "Storage=Storage.strip()[354:402]"
   ]
  },
  {
   "cell_type": "code",
   "execution_count": 269,
   "metadata": {},
   "outputs": [],
   "source": [
    "Display=Soup2.find(id=\"feature-bullets\").get_text()\n",
    "Display=Display.strip()[434:488]"
   ]
  },
  {
   "cell_type": "code",
   "execution_count": 270,
   "metadata": {},
   "outputs": [],
   "source": [
    "Battery=Soup2.find(id=\"feature-bullets\").get_text()\n",
    "Battery=Battery.strip()[966:1000]"
   ]
  },
  {
   "cell_type": "code",
   "execution_count": 271,
   "metadata": {},
   "outputs": [
    {
     "data": {
      "text/plain": [
       "'Lenovo Ideapad 3 AMD Ryzen 5 5500U 15.6\" (39.62cm) FHD Thin & Light Laptop (8GB/512GB SSD/Windows 11/Office 2021/Backlit Keyboard/2Yr Warranty/Arctic Grey/1.65Kg), 82KU017KIN'"
      ]
     },
     "execution_count": 271,
     "metadata": {},
     "output_type": "execute_result"
    }
   ],
   "source": [
    "title=title.strip()\n",
    "title"
   ]
  },
  {
   "cell_type": "code",
   "execution_count": 272,
   "metadata": {},
   "outputs": [],
   "source": [
    "#importing scrap data from amazon to csv file\n",
    "import csv\n",
    "header=['Title','Price','Date','Processor','Display','Storage','Battery']\n",
    "data=[title,price,today,Processor,Display,Storage,Battery]\n",
    "\n",
    "with open(\"amazonscrapper.csv\",'w',newline='',encoding='utf-8')as f:\n",
    "    writer=csv.writer(f)\n",
    "    writer.writerow(header)\n",
    "    writer.writerow(data)"
   ]
  },
  {
   "cell_type": "code",
   "execution_count": 273,
   "metadata": {},
   "outputs": [
    {
     "data": {
      "text/html": [
       "<div>\n",
       "<style scoped>\n",
       "    .dataframe tbody tr th:only-of-type {\n",
       "        vertical-align: middle;\n",
       "    }\n",
       "\n",
       "    .dataframe tbody tr th {\n",
       "        vertical-align: top;\n",
       "    }\n",
       "\n",
       "    .dataframe thead th {\n",
       "        text-align: right;\n",
       "    }\n",
       "</style>\n",
       "<table border=\"1\" class=\"dataframe\">\n",
       "  <thead>\n",
       "    <tr style=\"text-align: right;\">\n",
       "      <th></th>\n",
       "      <th>Title</th>\n",
       "      <th>Price</th>\n",
       "      <th>Date</th>\n",
       "      <th>Processor</th>\n",
       "      <th>Display</th>\n",
       "      <th>Storage</th>\n",
       "      <th>Battery</th>\n",
       "    </tr>\n",
       "  </thead>\n",
       "  <tbody>\n",
       "    <tr>\n",
       "      <th>0</th>\n",
       "      <td>Lenovo Ideapad 3 AMD Ryzen 5 5500U 15.6\" (39.6...</td>\n",
       "      <td>44,900</td>\n",
       "      <td>2023-08-23</td>\n",
       "      <td>Processor: 5th Gen AMD Ryzen 5 5500</td>\n",
       "      <td>Display: 15.6\" FHD (1920x1080) | Brightness : ...</td>\n",
       "      <td>8GB RAM DDR4, Upgradable up to 12GB | 512 GB SSD</td>\n",
       "      <td>Battery Life: 45Wh | Upto 7 Hours</td>\n",
       "    </tr>\n",
       "  </tbody>\n",
       "</table>\n",
       "</div>"
      ],
      "text/plain": [
       "                                               Title   Price        Date  \\\n",
       "0  Lenovo Ideapad 3 AMD Ryzen 5 5500U 15.6\" (39.6...  44,900  2023-08-23   \n",
       "\n",
       "                             Processor  \\\n",
       "0  Processor: 5th Gen AMD Ryzen 5 5500   \n",
       "\n",
       "                                             Display  \\\n",
       "0  Display: 15.6\" FHD (1920x1080) | Brightness : ...   \n",
       "\n",
       "                                            Storage  \\\n",
       "0  8GB RAM DDR4, Upgradable up to 12GB | 512 GB SSD   \n",
       "\n",
       "                              Battery  \n",
       "0  Battery Life: 45Wh | Upto 7 Hours   "
      ]
     },
     "execution_count": 273,
     "metadata": {},
     "output_type": "execute_result"
    }
   ],
   "source": [
    "import pandas as pd\n",
    "df=pd.read_csv(r'amazonscrapper.csv')\n",
    "df"
   ]
  },
  {
   "cell_type": "code",
   "execution_count": 274,
   "metadata": {},
   "outputs": [],
   "source": [
    "# now we are appending data to csv\n",
    "with open(\"amazonscrapper.csv\",'a+',newline='',encoding='utf-8')as f:\n",
    "    writer=csv.writer(f)\n",
    "    writer.writerow(data)"
   ]
  },
  {
   "cell_type": "code",
   "execution_count": 275,
   "metadata": {},
   "outputs": [],
   "source": [
    "# If uou want to try sending yourself an email (just for fun) when a price hits below a certain level you can try it\n",
    "# out with this script\n",
    "\n",
    "def send_mail():\n",
    "    server = smtplib.SMTP_SSL('smtp.gmail.com',465)\n",
    "    server.ehlo()\n",
    "    #server.starttls()\n",
    "    server.ehlo()\n",
    "    server.login('akashrawat851.ar@gmail.com','********')\n",
    "    \n",
    "    subject = \"The laptop you want is below 20000! Now is your chance to buy!\"\n",
    "    body = \"Akash, This is the moment we have been waiting for. Now is your chance to pick up the laptop of your dreams. Don't mess it up! Link here: https://www.amazon.in/Lenovo-Ideapad-Keyboard-Warranty-82KU017KIN/dp/B09MM58Y7Q/ref=dp_prsubs_sccl_2/259-9538599-3553507?pd_rd_w=pSB9x&content-id=amzn1.sym.2f3ff0c8-8f5f-437e-834e-57e94146d05c&pf_rd_p=2f3ff0c8-8f5f-437e-834e-57e94146d05c&pf_rd_r=AT37BNZGGS3768TFQRR8&pd_rd_wg=9szY5&pd_rd_r=9e69292b-f40e-44ba-b3ec-bac7c12e07df&pd_rd_i=B09MM58Y7Q&psc=1\"\n",
    "   \n",
    "    msg = f\"Subject: {subject}\\n\\n{body}\"\n",
    "    \n",
    "    server.sendmail(\n",
    "        'akashrawat851.ar@gmail.com',\n",
    "        msg\n",
    "     \n",
    "    )"
   ]
  },
  {
   "cell_type": "code",
   "execution_count": 276,
   "metadata": {},
   "outputs": [],
   "source": [
    "# for automate this process we will put that it in function\n",
    "\n",
    "def check_price_item():\n",
    "    URL=\"https://www.amazon.in/Lenovo-Ideapad-Keyboard-Warranty-82KU017KIN/dp/B09MM58Y7Q/ref=dp_prsubs_sccl_2/259-9538599-3553507?pd_rd_w=pSB9x&content-id=amzn1.sym.2f3ff0c8-8f5f-437e-834e-57e94146d05c&pf_rd_p=2f3ff0c8-8f5f-437e-834e-57e94146d05c&pf_rd_r=AT37BNZGGS3768TFQRR8&pd_rd_wg=9szY5&pd_rd_r=9e69292b-f40e-44ba-b3ec-bac7c12e07df&pd_rd_i=B09MM58Y7Q&psc=1\"\n",
    "    headers = {\"User-Agent\": \"Mozilla/5.0 (Windows NT 10.0; Win64; x64) AppleWebKit/537.36 (KHTML, like Gecko) Chrome/116.0.0.0 Safari/537.36\", \"Accept-Encoding\":\"gzip, deflate\", \"Accept\":\"text/html,application/xhtml+xml,application/xml;q=0.9,*/*;q=0.8\", \"DNT\":\"1\",\"Connection\":\"close\", \"Upgrade-Insecure-Requests\":\"1\"}\n",
    "    page=requests.get(URL, headers=headers)\n",
    "    Soup1=BeautifulSoup(page.content,\"html.parser\")\n",
    "    Soup2=BeautifulSoup(Soup1.prettify(),\"html.parser\")\n",
    "    title=Soup2.find(id=\"productTitle\").get_text()\n",
    "    title=title.strip()\n",
    "    price=Soup2.find(id=\"corePriceDisplay_desktop_feature_div\").get_text()\n",
    "    price=price.strip()[35:41]\n",
    "\n",
    "    import datetime\n",
    "    today=datetime.date.today()\n",
    "\n",
    "    import csv\n",
    "    header=['Title','Price','Date']\n",
    "    data=[title,price,today]\n",
    "\n",
    "    with open(\"amazonscrapper.csv\",'a+',newline='',encoding='utf-8')as f:\n",
    "        writer=csv.writer(f)\n",
    "        writer.writerow(data)\n",
    "    # if (price < 45,000):\n",
    "    #     send_mail()\n",
    "\n",
    "    \n",
    "\n",
    "\n",
    "    "
   ]
  },
  {
   "cell_type": "code",
   "execution_count": 286,
   "metadata": {},
   "outputs": [],
   "source": [
    "# Runs check_price after a set time and inputs data into your CSV\n",
    "\n",
    "while(True):\n",
    "    check_price_item()\n",
    "    time.sleep(86400)               #we will check prices for 1 day"
   ]
  },
  {
   "cell_type": "code",
   "execution_count": 1,
   "metadata": {},
   "outputs": [
    {
     "data": {
      "text/html": [
       "<div>\n",
       "<style scoped>\n",
       "    .dataframe tbody tr th:only-of-type {\n",
       "        vertical-align: middle;\n",
       "    }\n",
       "\n",
       "    .dataframe tbody tr th {\n",
       "        vertical-align: top;\n",
       "    }\n",
       "\n",
       "    .dataframe thead th {\n",
       "        text-align: right;\n",
       "    }\n",
       "</style>\n",
       "<table border=\"1\" class=\"dataframe\">\n",
       "  <thead>\n",
       "    <tr style=\"text-align: right;\">\n",
       "      <th></th>\n",
       "      <th>Title</th>\n",
       "      <th>Price</th>\n",
       "      <th>Date</th>\n",
       "      <th>Processor</th>\n",
       "      <th>Display</th>\n",
       "      <th>Storage</th>\n",
       "      <th>Battery</th>\n",
       "    </tr>\n",
       "  </thead>\n",
       "  <tbody>\n",
       "    <tr>\n",
       "      <th>0</th>\n",
       "      <td>Lenovo Ideapad 3 AMD Ryzen 5 5500U 15.6\" (39.6...</td>\n",
       "      <td>44,900</td>\n",
       "      <td>2023-08-23</td>\n",
       "      <td>Processor: 5th Gen AMD Ryzen 5 5500</td>\n",
       "      <td>Display: 15.6\" FHD (1920x1080) | Brightness : ...</td>\n",
       "      <td>8GB RAM DDR4, Upgradable up to 12GB | 512 GB SSD</td>\n",
       "      <td>Battery Life: 45Wh | Upto 7 Hours</td>\n",
       "    </tr>\n",
       "    <tr>\n",
       "      <th>1</th>\n",
       "      <td>Lenovo Ideapad 3 AMD Ryzen 5 5500U 15.6\" (39.6...</td>\n",
       "      <td>44,900</td>\n",
       "      <td>2023-08-23</td>\n",
       "      <td>Processor: 5th Gen AMD Ryzen 5 5500</td>\n",
       "      <td>Display: 15.6\" FHD (1920x1080) | Brightness : ...</td>\n",
       "      <td>8GB RAM DDR4, Upgradable up to 12GB | 512 GB SSD</td>\n",
       "      <td>Battery Life: 45Wh | Upto 7 Hours</td>\n",
       "    </tr>\n",
       "  </tbody>\n",
       "</table>\n",
       "</div>"
      ],
      "text/plain": [
       "                                               Title   Price        Date  \\\n",
       "0  Lenovo Ideapad 3 AMD Ryzen 5 5500U 15.6\" (39.6...  44,900  2023-08-23   \n",
       "1  Lenovo Ideapad 3 AMD Ryzen 5 5500U 15.6\" (39.6...  44,900  2023-08-23   \n",
       "\n",
       "                             Processor  \\\n",
       "0  Processor: 5th Gen AMD Ryzen 5 5500   \n",
       "1  Processor: 5th Gen AMD Ryzen 5 5500   \n",
       "\n",
       "                                             Display  \\\n",
       "0  Display: 15.6\" FHD (1920x1080) | Brightness : ...   \n",
       "1  Display: 15.6\" FHD (1920x1080) | Brightness : ...   \n",
       "\n",
       "                                            Storage  \\\n",
       "0  8GB RAM DDR4, Upgradable up to 12GB | 512 GB SSD   \n",
       "1  8GB RAM DDR4, Upgradable up to 12GB | 512 GB SSD   \n",
       "\n",
       "                              Battery  \n",
       "0  Battery Life: 45Wh | Upto 7 Hours   \n",
       "1  Battery Life: 45Wh | Upto 7 Hours   "
      ]
     },
     "execution_count": 1,
     "metadata": {},
     "output_type": "execute_result"
    }
   ],
   "source": [
    "import pandas as pd\n",
    "df=pd.read_csv(r'amazonscrapper.csv')\n",
    "df"
   ]
  }
 ],
 "metadata": {
  "kernelspec": {
   "display_name": "Python 3",
   "language": "python",
   "name": "python3"
  },
  "language_info": {
   "codemirror_mode": {
    "name": "ipython",
    "version": 3
   },
   "file_extension": ".py",
   "mimetype": "text/x-python",
   "name": "python",
   "nbconvert_exporter": "python",
   "pygments_lexer": "ipython3",
   "version": "3.11.1"
  },
  "orig_nbformat": 4
 },
 "nbformat": 4,
 "nbformat_minor": 2
}
